{
 "cells": [
  {
   "cell_type": "markdown",
   "id": "7d8eace7",
   "metadata": {},
   "source": [
    "# Ques 1"
   ]
  },
  {
   "cell_type": "code",
   "execution_count": null,
   "id": "0e759d7d",
   "metadata": {},
   "outputs": [],
   "source": [
    "__iter__ and __next__ are the operator overloading methods in python that support iteration"
   ]
  },
  {
   "cell_type": "markdown",
   "id": "ff900985",
   "metadata": {},
   "source": [
    "# Ques 2"
   ]
  },
  {
   "cell_type": "code",
   "execution_count": null,
   "id": "29429aa9",
   "metadata": {},
   "outputs": [],
   "source": [
    "__str__ and __repr__ are two operator overloading methods that manage printing."
   ]
  },
  {
   "cell_type": "markdown",
   "id": "0d829fee",
   "metadata": {},
   "source": [
    "# Ques 3"
   ]
  },
  {
   "cell_type": "code",
   "execution_count": null,
   "id": "65c2e5fb",
   "metadata": {},
   "outputs": [],
   "source": [
    "In a class use of slice() in __getitem__ method is used for intercept slice operation. This slice method is provided with (start integer number, stop integer number and step integer number)\n",
    "\n"
   ]
  },
  {
   "cell_type": "markdown",
   "id": "8debf7b0",
   "metadata": {},
   "source": [
    "# Ques 4"
   ]
  },
  {
   "cell_type": "code",
   "execution_count": null,
   "id": "bf752e64",
   "metadata": {},
   "outputs": [],
   "source": [
    "a+=b is a inplace addition operation. a itself will store the value of addition.\n"
   ]
  },
  {
   "cell_type": "markdown",
   "id": "db34f6b1",
   "metadata": {},
   "source": [
    "# Ques 5"
   ]
  },
  {
   "cell_type": "markdown",
   "id": "e4edeb99",
   "metadata": {},
   "source": [
    "Operator overloading is used when we want to use an operator other than its normal operation to have different meaning to the context required in user defined function."
   ]
  }
 ],
 "metadata": {
  "kernelspec": {
   "display_name": "Python 3 (ipykernel)",
   "language": "python",
   "name": "python3"
  },
  "language_info": {
   "codemirror_mode": {
    "name": "ipython",
    "version": 3
   },
   "file_extension": ".py",
   "mimetype": "text/x-python",
   "name": "python",
   "nbconvert_exporter": "python",
   "pygments_lexer": "ipython3",
   "version": "3.10.9"
  }
 },
 "nbformat": 4,
 "nbformat_minor": 5
}
