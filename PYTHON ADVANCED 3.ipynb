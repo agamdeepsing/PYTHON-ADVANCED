{
 "cells": [
  {
   "cell_type": "markdown",
   "id": "f24cff91",
   "metadata": {},
   "source": [
    "# Ques 1"
   ]
  },
  {
   "cell_type": "markdown",
   "id": "af726f2a",
   "metadata": {},
   "source": [
    "an abstract class is known as blueprint for other classes.  allows you to create a set of methods that must be created within child class built from the abstract class. "
   ]
  },
  {
   "cell_type": "markdown",
   "id": "7512b1d2",
   "metadata": {},
   "source": [
    "# Ques 2"
   ]
  },
  {
   "cell_type": "markdown",
   "id": "c55cd0b2",
   "metadata": {},
   "source": [
    "when a class statement's top level contains a basic assignment statement, it is treated as class attribute or class level var.\n",
    "\n",
    "assignment statements inside methods are treated as instance attributes."
   ]
  },
  {
   "cell_type": "markdown",
   "id": "d11fec58",
   "metadata": {},
   "source": [
    "# Ques 3"
   ]
  },
  {
   "cell_type": "markdown",
   "id": "2332382d",
   "metadata": {},
   "source": [
    "if a child class has __init__ method,it will not inherit the __init__ method of the parent class.In simple words the __init__ method of the child class overrides the __init__ method of the parent class.Thats why we have to manually call a parent superclass's __init__ using super() method."
   ]
  },
  {
   "cell_type": "markdown",
   "id": "0799f4e3",
   "metadata": {},
   "source": [
    "# Ques 4"
   ]
  },
  {
   "cell_type": "code",
   "execution_count": null,
   "id": "5ed07c64",
   "metadata": {},
   "outputs": [],
   "source": [
    "super() method can be used to augment, instead of completely replacing, an inherited method."
   ]
  },
  {
   "cell_type": "markdown",
   "id": "b263fde0",
   "metadata": {},
   "source": [
    "# Ques 5"
   ]
  },
  {
   "cell_type": "markdown",
   "id": "72d8b33f",
   "metadata": {},
   "source": [
    "variable inside of a class also has a local variable scope. Variables which are defined in the class body are called as class level variables or class attributes. they can be referenced by there bare names within the same scope, but they can also be accessed from outside this scope if we use the attribute access operator (.). on a class or an instance of the class."
   ]
  },
  {
   "cell_type": "code",
   "execution_count": null,
   "id": "78cf12eb",
   "metadata": {},
   "outputs": [],
   "source": []
  }
 ],
 "metadata": {
  "kernelspec": {
   "display_name": "Python 3 (ipykernel)",
   "language": "python",
   "name": "python3"
  },
  "language_info": {
   "codemirror_mode": {
    "name": "ipython",
    "version": 3
   },
   "file_extension": ".py",
   "mimetype": "text/x-python",
   "name": "python",
   "nbconvert_exporter": "python",
   "pygments_lexer": "ipython3",
   "version": "3.10.9"
  }
 },
 "nbformat": 4,
 "nbformat_minor": 5
}
