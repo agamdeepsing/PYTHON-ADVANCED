{
 "cells": [
  {
   "cell_type": "markdown",
   "id": "407d7f8c",
   "metadata": {},
   "source": [
    "# Ques 1"
   ]
  },
  {
   "cell_type": "markdown",
   "id": "5b3c580b",
   "metadata": {},
   "source": [
    "exception processing is important as it identifies the runtime error in applications.\n",
    "\n",
    "1.Checking Appropriate use of I/P in an application\n",
    "\n",
    "2.Checking for Arithmetic exceptions in mathematical executions\n",
    "\n",
    "3.Checking File I/O exceptions during File handling"
   ]
  },
  {
   "cell_type": "markdown",
   "id": "b48460a7",
   "metadata": {},
   "source": [
    "# Ques 2"
   ]
  },
  {
   "cell_type": "markdown",
   "id": "b53c9843",
   "metadata": {},
   "source": [
    "if exceptions are not handled our program will not run, gets broken and leads to termination of the program. inability of program to handle exceptions will result in crashing of program thus we will not get desired output."
   ]
  },
  {
   "cell_type": "markdown",
   "id": "0fab2fd7",
   "metadata": {},
   "source": [
    "# Ques 3"
   ]
  },
  {
   "cell_type": "markdown",
   "id": "ec979a52",
   "metadata": {},
   "source": [
    "Python provides try and except statements for recovering from an exception in your script."
   ]
  },
  {
   "cell_type": "markdown",
   "id": "6ba82d3c",
   "metadata": {},
   "source": [
    "# Ques 4"
   ]
  },
  {
   "cell_type": "markdown",
   "id": "5f874ef6",
   "metadata": {},
   "source": [
    "raise and assert are two methods that can be used to trigger manual exceptions in our script if th econditions turns out to be true else exception is raised"
   ]
  },
  {
   "cell_type": "markdown",
   "id": "faa51624",
   "metadata": {},
   "source": [
    "# Ques 5"
   ]
  },
  {
   "cell_type": "markdown",
   "id": "7265fb5e",
   "metadata": {},
   "source": [
    "Python Provides else and finally blocks for specifying actions to be executed at termination time, regardless whether an exceptions exists or not."
   ]
  }
 ],
 "metadata": {
  "kernelspec": {
   "display_name": "Python 3 (ipykernel)",
   "language": "python",
   "name": "python3"
  },
  "language_info": {
   "codemirror_mode": {
    "name": "ipython",
    "version": 3
   },
   "file_extension": ".py",
   "mimetype": "text/x-python",
   "name": "python",
   "nbconvert_exporter": "python",
   "pygments_lexer": "ipython3",
   "version": "3.10.9"
  }
 },
 "nbformat": 4,
 "nbformat_minor": 5
}
