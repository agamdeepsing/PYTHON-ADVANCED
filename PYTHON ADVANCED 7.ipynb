{
 "cells": [
  {
   "cell_type": "markdown",
   "id": "2ce6da71",
   "metadata": {},
   "source": [
    "# Ques 1"
   ]
  },
  {
   "cell_type": "markdown",
   "id": "920f91e9",
   "metadata": {},
   "source": [
    "try statement is used to check whether the code runs well and does have any problem if there is something wrong with the code it throws an exception"
   ]
  },
  {
   "cell_type": "markdown",
   "id": "b277befe",
   "metadata": {},
   "source": [
    "# Ques 2"
   ]
  },
  {
   "cell_type": "markdown",
   "id": "45f502d3",
   "metadata": {},
   "source": [
    "try,except\n",
    "try,except,finally\n",
    "try,except,finally,else\n",
    "ode enters the else block if and only if the try clause does not raise and exception. The code in the finally block will execute irrespective of exception."
   ]
  },
  {
   "cell_type": "markdown",
   "id": "5d0ed177",
   "metadata": {},
   "source": [
    "# Ques 3"
   ]
  },
  {
   "cell_type": "markdown",
   "id": "ed422e0a",
   "metadata": {},
   "source": [
    "purpose of the raise statement is that it raises an exception whenever the above code is not running  or does not meet the requiremnt of the programmer."
   ]
  },
  {
   "cell_type": "markdown",
   "id": "0265da23",
   "metadata": {},
   "source": [
    "# Ques 4"
   ]
  },
  {
   "cell_type": "markdown",
   "id": "a7a585e1",
   "metadata": {},
   "source": [
    " assert statement is used to prevent the code failure used by programmers and wanted assert statements to be true . This statement takes a boolean condition output of which is True, Further Program Executes. If output of assert statement is False, it raises an Assertion Error."
   ]
  },
  {
   "cell_type": "markdown",
   "id": "151db6e5",
   "metadata": {},
   "source": [
    "# Ques 5"
   ]
  },
  {
   "cell_type": "markdown",
   "id": "586a4534",
   "metadata": {},
   "source": [
    "with/as statement simplifies use of file handling in python. with statement itself ensures proper acquisition. this avoids triggering of exceptions,\n",
    "\n",
    "for eg with open(\"anjndsjn\",'w') as xyz: xyz.write('Hello Ineuron')"
   ]
  },
  {
   "cell_type": "code",
   "execution_count": null,
   "id": "e15ccc63",
   "metadata": {},
   "outputs": [],
   "source": []
  }
 ],
 "metadata": {
  "kernelspec": {
   "display_name": "Python 3 (ipykernel)",
   "language": "python",
   "name": "python3"
  },
  "language_info": {
   "codemirror_mode": {
    "name": "ipython",
    "version": 3
   },
   "file_extension": ".py",
   "mimetype": "text/x-python",
   "name": "python",
   "nbconvert_exporter": "python",
   "pygments_lexer": "ipython3",
   "version": "3.10.9"
  }
 },
 "nbformat": 4,
 "nbformat_minor": 5
}
