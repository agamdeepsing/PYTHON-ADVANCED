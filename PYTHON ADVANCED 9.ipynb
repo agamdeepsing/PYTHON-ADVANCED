{
 "cells": [
  {
   "cell_type": "markdown",
   "id": "b5c27e5d",
   "metadata": {},
   "source": [
    "# Ques 1"
   ]
  },
  {
   "cell_type": "code",
   "execution_count": null,
   "id": "85d0e4d2",
   "metadata": {},
   "outputs": [],
   "source": [
    "<string>.isdecimal() -> Returns True if all characters in a string are decimal.\n",
    "\n",
    "<string>.isalnum() -> Returns True if all characters in the string are AlphaNumeric.\n",
    "\n",
    "<string>.istitle() -> Returns True if first character in a string is in Uppercase.\n",
    "\n",
    "<string>.partition(<sub_string>) -> Splits string at first occurance of sub string and returns a tuple of 3 elements.\n",
    "\n",
    "<string>.rpartition(<sub_string>) -> Splits string at last occurance of sub string and returns a tuple of 3 elements.\n",
    "\n",
    "<string>.isidentifier() -> Returns True if give string is a valid identifier name.\n",
    "\n",
    "len(<string>) -> Returns the length of the given string.\n",
    "\n",
    "<string>.index(<sub_string>) -> Returns the lowest index of substring if substring is found in the string.\n",
    "\n",
    "<string>.rindex(<sub_string>) -> Returns the highest index of substring if substring is found in the string.\n",
    "\n",
    "max(<string>) -> Returns the highest Alphabetical Character in the string as per ASCII.\n",
    "\n",
    "min(<string>) -> Returns the lowest Alphabetical Character in the string as per ASCII.\n",
    "\n",
    "<string>.splitlines() -> Returns a list of lines in the string.\n",
    "\n",
    "<string>.capitalize() -> Returns the string with first character capitalized.\n",
    "\n",
    "<string>.upper() -> Returns the string with all characters in uppercase.\n",
    "\n",
    "<string>.lower() -> Returns the string with all characters in lowercase\n",
    "\n",
    "<string>.casefold() -> Returns the string in lowercase which can be used for caseless comparisions.\n",
    "\n",
    "<string>.expandtabs(no_of_spaces) -> Replaces tabs in a string with specified no of spaces default is 8\n",
    "\n",
    "<string>.find(<sub_string>) -> Returns lowest index of substring if substring is found in the string else returns -1.\n",
    "\n",
    "<string>.rfind(<sub_string>) -> Returns highest index of substring if substring is found in the string else returns -1.\n",
    "\n",
    "<string>.count(<char>) -> Returns the no of occurances of the char in the given string.\n",
    "\n",
    "<string>.split(<sep>) -> Returns list of words seperated by given sep else seperated by whitespace.\n",
    "\n",
    "<string>.rsplit(<sep>) -> Returns list of words seperated by given sep else seperated by whitespace scanning from end.\n",
    "\n",
    "<string>.lstrip() -> Returns a copy of where leading whitespaces are removed.\n",
    "\n",
    "<string>.rstrip() -> Returns a copy of where trailed whitespaces are removed.\n",
    "\n",
    "<string>.strip() -> Returns a copy of where both leading and trailing whitespaces are removed.\n",
    "\n",
    "<string>.swapcase() -> Swaps lowercase characters with uppercase and vice versa.\n",
    "\n",
    "<sep>.join(<list>) -> Concatenates a list or tuple of words with intervening occuernces of sep.\n",
    "\n",
    "<string>.translate(<mapping_table>) -> translates the characters using table.\n",
    "                                                                                               \n",
    "<string>.maketrans(<dict>) -> Creating a mapping translation tbale usable for \n",
    "\n",
    "<string>.translate(<mapping_table>)\n",
    "\n",
    "<string>.replace(<char_1>,<char_2>) -> Replace all occurances of char_1 with char_2 in string.\n",
    "\n",
    "<string>.encode() -> Encodes string into any encoding supported by python. Default encoding is UTF-8.\n",
    "\n",
    "<string>.ljust(<no_of_spaces>) -> Left-justify in a field of given width.\n",
    "\n",
    "<string>.rjust(<no_of_spaces>) -> Right-justify in a field of given width.\n",
    "\n",
    "<string>.center(<no_of_spaces>) -> Center-justify in a field of given width.\n",
    "\n",
    "<stirng>.zfill(<length>) -> Zfill adds zeros to the begining of string until the specified length is reached."
   ]
  },
  {
   "cell_type": "markdown",
   "id": "02942f95",
   "metadata": {},
   "source": [
    "# Ques 2"
   ]
  },
  {
   "cell_type": "markdown",
   "id": "a287095c",
   "metadata": {},
   "source": [
    "In Python3 default format of strings is Unicode Whereas in Pyton2 we need to explicitly mention Unicode value using u."
   ]
  },
  {
   "cell_type": "markdown",
   "id": "be535907",
   "metadata": {},
   "source": [
    "# Ques 3"
   ]
  },
  {
   "cell_type": "markdown",
   "id": "afc756fc",
   "metadata": {},
   "source": [
    " In Python 3.x unidecode() method from unidecode library can be used to put non-ASCII Unicode Characters in a string."
   ]
  },
  {
   "cell_type": "markdown",
   "id": "8cafaf93",
   "metadata": {},
   "source": [
    "# Ques 4"
   ]
  },
  {
   "cell_type": "markdown",
   "id": "ef364085",
   "metadata": {},
   "source": [
    "Text mode files are read and written as Unicode strings, while binary mode files are read and written as bytes. When reading from or writing to a text mode file, Python will automatically decode or encode the file data to or from Unicode, based on the specified encoding.\n",
    "\n",
    "When writing to a text mode file, Python will automatically convert any newline characters ('\\n') to the appropriate end-of-line sequence for the operating system (e.g., '\\r\\n' on Windows, '\\n' on Unix). When reading from a text mode file, Python will automatically recognize and handle any end-of-line sequence, regardless of the operating system."
   ]
  },
  {
   "cell_type": "markdown",
   "id": "33dc8724",
   "metadata": {},
   "source": [
    "# Ques 5"
   ]
  },
  {
   "cell_type": "markdown",
   "id": "72257d6b",
   "metadata": {},
   "source": [
    "Use of encode() and decode() method can be used to you interpret a Unicode text file containing text encoded in a different encoding than your platform's default, by default encoding parameter is UTF-8"
   ]
  },
  {
   "cell_type": "markdown",
   "id": "f5217b4d",
   "metadata": {},
   "source": [
    "# Ques 6"
   ]
  },
  {
   "cell_type": "markdown",
   "id": "5c692e5b",
   "metadata": {},
   "source": [
    "Use str.encode() and file.write() to make a Unicode text file in a particular encoding format, default encoding format is UTF-18.\n",
    "\n",
    "Call str.encode(encoding) with encoding set to utf8 to encode str.\n",
    "\n",
    "\n",
    "Call open(file, mode) to open a file with mode set to wb . wb writes to files in binary mode & preserves UTF-8format.\n",
    "\n",
    "\n",
    "Call file.write(data) to write data to the file."
   ]
  },
  {
   "cell_type": "markdown",
   "id": "ee6a8bef",
   "metadata": {},
   "source": [
    "# Ques 7"
   ]
  },
  {
   "cell_type": "markdown",
   "id": "997ef134",
   "metadata": {},
   "source": [
    "Unicode represents most written languages in the world. ASCII has its equivalent in Unicode. The difference between ASCII and Unicode is that ASCII represents lowercase letters (a-z), uppercase letters (A-Z), digits (0–9) and symbols such as punctuation marks while Unicode represents letters of English, Arabic, Greek etc. mathematical symbols, historical scripts, emoji covering a wide range of characters than ASCII."
   ]
  },
  {
   "cell_type": "markdown",
   "id": "4dcc5c8a",
   "metadata": {},
   "source": [
    "# Ques 8"
   ]
  },
  {
   "cell_type": "markdown",
   "id": "b38fcec6",
   "metadata": {},
   "source": [
    "Python 3 stores strings as Unicode by default whereas Python 2 requires you to mark a string with a u if you want to store it as Unicode. Unicode strings are more versatile than ASCII strings, which are the Python 3.X default, as they can store letters from foreign languages as well as emoji and the standard Roman letters and numerals."
   ]
  },
  {
   "cell_type": "code",
   "execution_count": null,
   "id": "d943e471",
   "metadata": {},
   "outputs": [],
   "source": []
  }
 ],
 "metadata": {
  "kernelspec": {
   "display_name": "Python 3 (ipykernel)",
   "language": "python",
   "name": "python3"
  },
  "language_info": {
   "codemirror_mode": {
    "name": "ipython",
    "version": 3
   },
   "file_extension": ".py",
   "mimetype": "text/x-python",
   "name": "python",
   "nbconvert_exporter": "python",
   "pygments_lexer": "ipython3",
   "version": "3.10.9"
  }
 },
 "nbformat": 4,
 "nbformat_minor": 5
}
