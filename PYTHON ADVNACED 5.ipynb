{
 "cells": [
  {
   "cell_type": "markdown",
   "id": "197b1f80",
   "metadata": {},
   "source": [
    "# Ques 1"
   ]
  },
  {
   "cell_type": "code",
   "execution_count": null,
   "id": "772142d9",
   "metadata": {},
   "outputs": [],
   "source": [
    "multiple inheritense means using a code of a parent by the child class."
   ]
  },
  {
   "cell_type": "markdown",
   "id": "11d4f49e",
   "metadata": {},
   "source": [
    "# Ques 2"
   ]
  },
  {
   "cell_type": "code",
   "execution_count": null,
   "id": "1b4b1535",
   "metadata": {},
   "outputs": [],
   "source": [
    "Delegation provides a proxy object for any class thay you want on top of the main class."
   ]
  },
  {
   "cell_type": "markdown",
   "id": "173e529c",
   "metadata": {},
   "source": [
    "# Ques 3"
   ]
  },
  {
   "cell_type": "markdown",
   "id": "0dcc67bd",
   "metadata": {},
   "source": [
    "In the concept of Composition, a class refers to one or more classes by using instances of other classes as a instance variable. all the parent class members are not inherited into child class, but only required methods from a class are used by class instances."
   ]
  },
  {
   "cell_type": "markdown",
   "id": "b4a7d008",
   "metadata": {},
   "source": [
    "# Ques 4"
   ]
  },
  {
   "cell_type": "markdown",
   "id": "323bfc44",
   "metadata": {},
   "source": [
    "if a function is an attribute of class and it is accessed via the instances, they are called bound methods. A bound method is one that has self as its first argument."
   ]
  },
  {
   "cell_type": "markdown",
   "id": "2270c598",
   "metadata": {},
   "source": [
    "# Ques 5"
   ]
  },
  {
   "cell_type": "markdown",
   "id": "377b2f98",
   "metadata": {},
   "source": [
    "Pseudoprivate attributes are especially valuable in bigger frameworks or tools, both to prevent providing new method names that may mistakenly hide definitions somewhere in the class tree and to limit the possibility of internal methods being substituted by names specified lower in the tree. \n",
    "\n",
    "If a method is intended to be used only within a class that may be mixed with other classes, the double underscore prefix ensures that the method does not conflict with other names in the tree, especially in multiple inheritance scenarios."
   ]
  },
  {
   "cell_type": "code",
   "execution_count": null,
   "id": "35e0862d",
   "metadata": {},
   "outputs": [],
   "source": []
  }
 ],
 "metadata": {
  "kernelspec": {
   "display_name": "Python 3 (ipykernel)",
   "language": "python",
   "name": "python3"
  },
  "language_info": {
   "codemirror_mode": {
    "name": "ipython",
    "version": 3
   },
   "file_extension": ".py",
   "mimetype": "text/x-python",
   "name": "python",
   "nbconvert_exporter": "python",
   "pygments_lexer": "ipython3",
   "version": "3.10.9"
  }
 },
 "nbformat": 4,
 "nbformat_minor": 5
}
